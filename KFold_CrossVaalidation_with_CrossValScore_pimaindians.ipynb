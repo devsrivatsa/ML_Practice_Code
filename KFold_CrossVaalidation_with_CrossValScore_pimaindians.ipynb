{
 "cells": [
  {
   "cell_type": "markdown",
   "metadata": {},
   "source": [
    "<h3>K-Fold cross validation implementation on pima indians diabetes dataset</h3>"
   ]
  },
  {
   "cell_type": "code",
   "execution_count": 21,
   "metadata": {},
   "outputs": [],
   "source": [
    "# Code to ignore all warnings\n",
    "import warnings\n",
    "warnings.filterwarnings('ignore')"
   ]
  },
  {
   "cell_type": "code",
   "execution_count": 22,
   "metadata": {},
   "outputs": [],
   "source": [
    "import pandas as pd\n",
    "import numpy as np\n",
    "from sklearn.model_selection import train_test_split, KFold, cross_val_score\n",
    "from sklearn.linear_model import LogisticRegression"
   ]
  },
  {
   "cell_type": "code",
   "execution_count": 23,
   "metadata": {},
   "outputs": [],
   "source": [
    "# load dataset\n",
    "data = pd.read_csv(\"C:\\\\Users\\\\Srivatsa\\\\Desktop\\\\Great_Lakes\\\\Datasets\\\\pima-indians-diabetes.csv\")\n",
    "X = data.iloc[:,0:8]\n",
    "y = data.iloc[:,8]"
   ]
  },
  {
   "cell_type": "code",
   "execution_count": 24,
   "metadata": {},
   "outputs": [],
   "source": [
    "X_train, X_test, y_train, y_test = train_test_split(X, y, test_size=0.4, random_state=123)"
   ]
  },
  {
   "cell_type": "code",
   "execution_count": 25,
   "metadata": {},
   "outputs": [],
   "source": [
    "# n_splits is usually 10\n",
    "kfold = KFold(n_splits=50, random_state=123)"
   ]
  },
  {
   "cell_type": "code",
   "execution_count": 26,
   "metadata": {},
   "outputs": [],
   "source": [
    "model = LogisticRegression()"
   ]
  },
  {
   "cell_type": "code",
   "execution_count": 27,
   "metadata": {},
   "outputs": [],
   "source": [
    "results = cross_val_score(model, X, y, cv=kfold)"
   ]
  },
  {
   "cell_type": "code",
   "execution_count": 28,
   "metadata": {},
   "outputs": [
    {
     "name": "stdout",
     "output_type": "stream",
     "text": [
      "[0.625      0.6875     0.625      0.75       0.75       0.875\n",
      " 0.875      0.8125     0.8125     0.875      0.8125     0.75\n",
      " 0.8125     0.5625     0.9375     0.75       0.6875     0.625\n",
      " 0.6        0.8        0.6        0.73333333 0.8        0.86666667\n",
      " 0.8        0.73333333 0.73333333 0.86666667 0.73333333 0.8\n",
      " 0.8        0.66666667 0.8        0.93333333 0.73333333 0.86666667\n",
      " 0.73333333 0.86666667 0.93333333 1.         0.8        0.73333333\n",
      " 0.6        0.66666667 0.86666667 0.66666667 0.8        0.86666667\n",
      " 0.86666667 0.86666667]\n",
      "Mean Accuracy: 77.51666666666668\n",
      "Standard Deviation: 10.047097424961434\n"
     ]
    }
   ],
   "source": [
    "print(results)\n",
    "print(f\"Mean Accuracy: {results.mean()*100}\\nStandard Deviation: {results.std()*100}\")"
   ]
  },
  {
   "cell_type": "markdown",
   "metadata": {},
   "source": [
    "<b>Since 95% of the normal distribution will be covered by area of 1.96(approx 2) standard distributions in either sides, we will get an accuracy score between 55.5% to 97.5% (mean +- 2*std_dist)</b>"
   ]
  },
  {
   "cell_type": "code",
   "execution_count": null,
   "metadata": {},
   "outputs": [],
   "source": []
  }
 ],
 "metadata": {
  "kernelspec": {
   "display_name": "Python 3",
   "language": "python",
   "name": "python3"
  },
  "language_info": {
   "codemirror_mode": {
    "name": "ipython",
    "version": 3
   },
   "file_extension": ".py",
   "mimetype": "text/x-python",
   "name": "python",
   "nbconvert_exporter": "python",
   "pygments_lexer": "ipython3",
   "version": "3.6.8"
  }
 },
 "nbformat": 4,
 "nbformat_minor": 2
}
