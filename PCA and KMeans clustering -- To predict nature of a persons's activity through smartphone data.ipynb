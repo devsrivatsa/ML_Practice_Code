{
 "cells": [
  {
   "cell_type": "code",
   "execution_count": 2,
   "metadata": {},
   "outputs": [],
   "source": [
    "import numpy as np\n",
    "import pandas as pd\n",
    "import matplotlib.pyplot as plt\n",
    "import seaborn as sns\n",
    "from sklearn.model_selection import train_test_split\n",
    "from sklearn.preprocessing import StandardScaler"
   ]
  },
  {
   "cell_type": "code",
   "execution_count": 186,
   "metadata": {},
   "outputs": [],
   "source": [
    "from sklearn.cluster import KMeans\n",
    "from sklearn.cluster import MiniBatchKMeans\n",
    "from sklearn.metrics import silhouette_score\n",
    "from sklearn.decomposition import PCA\n",
    "from sklearn.decomposition import IncrementalPCA"
   ]
  },
  {
   "cell_type": "code",
   "execution_count": 87,
   "metadata": {},
   "outputs": [],
   "source": [
    "train = pd.read_csv(\"C:\\\\Users\\\\ssriva\\\\Desktop\\\\Great_Lakes_fromOfficce\\\\Datasets\\\\simplifiedhuarus\\\\train.csv\")\n",
    "test = pd.read_csv(\"C:\\\\Users\\\\ssriva\\\\Desktop\\\\Great_Lakes_fromOfficce\\\\Datasets\\\\simplifiedhuarus\\\\test.csv\")"
   ]
  },
  {
   "cell_type": "code",
   "execution_count": 88,
   "metadata": {},
   "outputs": [
    {
     "data": {
      "text/html": [
       "<div>\n",
       "<style scoped>\n",
       "    .dataframe tbody tr th:only-of-type {\n",
       "        vertical-align: middle;\n",
       "    }\n",
       "\n",
       "    .dataframe tbody tr th {\n",
       "        vertical-align: top;\n",
       "    }\n",
       "\n",
       "    .dataframe thead th {\n",
       "        text-align: right;\n",
       "    }\n",
       "</style>\n",
       "<table border=\"1\" class=\"dataframe\">\n",
       "  <thead>\n",
       "    <tr style=\"text-align: right;\">\n",
       "      <th></th>\n",
       "      <th>rn</th>\n",
       "      <th>activity</th>\n",
       "      <th>tBodyAcc.mean.X</th>\n",
       "      <th>tBodyAcc.mean.Y</th>\n",
       "      <th>tBodyAcc.mean.Z</th>\n",
       "      <th>tBodyAcc.std.X</th>\n",
       "      <th>tBodyAcc.std.Y</th>\n",
       "      <th>tBodyAcc.std.Z</th>\n",
       "      <th>tBodyAcc.mad.X</th>\n",
       "      <th>tBodyAcc.mad.Y</th>\n",
       "      <th>...</th>\n",
       "      <th>fBodyBodyGyroJerkMag.meanFreq</th>\n",
       "      <th>fBodyBodyGyroJerkMag.skewness</th>\n",
       "      <th>fBodyBodyGyroJerkMag.kurtosis</th>\n",
       "      <th>angle.tBodyAccMean.gravity</th>\n",
       "      <th>angle.tBodyAccJerkMean.gravityMean</th>\n",
       "      <th>angle.tBodyGyroMean.gravityMean</th>\n",
       "      <th>angle.tBodyGyroJerkMean.gravityMean</th>\n",
       "      <th>angle.X.gravityMean</th>\n",
       "      <th>angle.Y.gravityMean</th>\n",
       "      <th>angle.Z.gravityMean</th>\n",
       "    </tr>\n",
       "  </thead>\n",
       "  <tbody>\n",
       "    <tr>\n",
       "      <th>0</th>\n",
       "      <td>7</td>\n",
       "      <td>STANDING</td>\n",
       "      <td>0.279</td>\n",
       "      <td>-0.0196</td>\n",
       "      <td>-0.1100</td>\n",
       "      <td>-0.997</td>\n",
       "      <td>-0.967</td>\n",
       "      <td>-0.983</td>\n",
       "      <td>-0.997</td>\n",
       "      <td>-0.966</td>\n",
       "      <td>...</td>\n",
       "      <td>0.146</td>\n",
       "      <td>-0.217</td>\n",
       "      <td>-0.5640</td>\n",
       "      <td>-0.2130</td>\n",
       "      <td>-0.2310</td>\n",
       "      <td>0.0146</td>\n",
       "      <td>-0.190</td>\n",
       "      <td>-0.852</td>\n",
       "      <td>0.182</td>\n",
       "      <td>-0.0430</td>\n",
       "    </tr>\n",
       "    <tr>\n",
       "      <th>1</th>\n",
       "      <td>11</td>\n",
       "      <td>STANDING</td>\n",
       "      <td>0.277</td>\n",
       "      <td>-0.0127</td>\n",
       "      <td>-0.1030</td>\n",
       "      <td>-0.995</td>\n",
       "      <td>-0.973</td>\n",
       "      <td>-0.985</td>\n",
       "      <td>-0.996</td>\n",
       "      <td>-0.974</td>\n",
       "      <td>...</td>\n",
       "      <td>0.121</td>\n",
       "      <td>0.349</td>\n",
       "      <td>0.0577</td>\n",
       "      <td>0.0807</td>\n",
       "      <td>0.5960</td>\n",
       "      <td>-0.4760</td>\n",
       "      <td>0.116</td>\n",
       "      <td>-0.852</td>\n",
       "      <td>0.188</td>\n",
       "      <td>-0.0347</td>\n",
       "    </tr>\n",
       "    <tr>\n",
       "      <th>2</th>\n",
       "      <td>14</td>\n",
       "      <td>STANDING</td>\n",
       "      <td>0.277</td>\n",
       "      <td>-0.0147</td>\n",
       "      <td>-0.1070</td>\n",
       "      <td>-0.999</td>\n",
       "      <td>-0.991</td>\n",
       "      <td>-0.993</td>\n",
       "      <td>-0.999</td>\n",
       "      <td>-0.991</td>\n",
       "      <td>...</td>\n",
       "      <td>0.740</td>\n",
       "      <td>-0.564</td>\n",
       "      <td>-0.7660</td>\n",
       "      <td>0.1060</td>\n",
       "      <td>-0.0903</td>\n",
       "      <td>-0.1320</td>\n",
       "      <td>0.499</td>\n",
       "      <td>-0.850</td>\n",
       "      <td>0.189</td>\n",
       "      <td>-0.0351</td>\n",
       "    </tr>\n",
       "    <tr>\n",
       "      <th>3</th>\n",
       "      <td>15</td>\n",
       "      <td>STANDING</td>\n",
       "      <td>0.298</td>\n",
       "      <td>0.0271</td>\n",
       "      <td>-0.0617</td>\n",
       "      <td>-0.989</td>\n",
       "      <td>-0.817</td>\n",
       "      <td>-0.902</td>\n",
       "      <td>-0.989</td>\n",
       "      <td>-0.794</td>\n",
       "      <td>...</td>\n",
       "      <td>0.131</td>\n",
       "      <td>0.208</td>\n",
       "      <td>-0.0681</td>\n",
       "      <td>0.0623</td>\n",
       "      <td>-0.0587</td>\n",
       "      <td>0.0312</td>\n",
       "      <td>-0.269</td>\n",
       "      <td>-0.731</td>\n",
       "      <td>0.283</td>\n",
       "      <td>0.0364</td>\n",
       "    </tr>\n",
       "    <tr>\n",
       "      <th>4</th>\n",
       "      <td>20</td>\n",
       "      <td>STANDING</td>\n",
       "      <td>0.276</td>\n",
       "      <td>-0.0170</td>\n",
       "      <td>-0.1110</td>\n",
       "      <td>-0.998</td>\n",
       "      <td>-0.991</td>\n",
       "      <td>-0.998</td>\n",
       "      <td>-0.998</td>\n",
       "      <td>-0.989</td>\n",
       "      <td>...</td>\n",
       "      <td>0.667</td>\n",
       "      <td>-0.942</td>\n",
       "      <td>-0.9660</td>\n",
       "      <td>0.2450</td>\n",
       "      <td>0.1030</td>\n",
       "      <td>0.0661</td>\n",
       "      <td>-0.412</td>\n",
       "      <td>-0.761</td>\n",
       "      <td>0.263</td>\n",
       "      <td>0.0296</td>\n",
       "    </tr>\n",
       "  </tbody>\n",
       "</table>\n",
       "<p>5 rows × 563 columns</p>\n",
       "</div>"
      ],
      "text/plain": [
       "   rn  activity  tBodyAcc.mean.X  tBodyAcc.mean.Y  tBodyAcc.mean.Z  \\\n",
       "0   7  STANDING            0.279          -0.0196          -0.1100   \n",
       "1  11  STANDING            0.277          -0.0127          -0.1030   \n",
       "2  14  STANDING            0.277          -0.0147          -0.1070   \n",
       "3  15  STANDING            0.298           0.0271          -0.0617   \n",
       "4  20  STANDING            0.276          -0.0170          -0.1110   \n",
       "\n",
       "   tBodyAcc.std.X  tBodyAcc.std.Y  tBodyAcc.std.Z  tBodyAcc.mad.X  \\\n",
       "0          -0.997          -0.967          -0.983          -0.997   \n",
       "1          -0.995          -0.973          -0.985          -0.996   \n",
       "2          -0.999          -0.991          -0.993          -0.999   \n",
       "3          -0.989          -0.817          -0.902          -0.989   \n",
       "4          -0.998          -0.991          -0.998          -0.998   \n",
       "\n",
       "   tBodyAcc.mad.Y  ...  fBodyBodyGyroJerkMag.meanFreq  \\\n",
       "0          -0.966  ...                          0.146   \n",
       "1          -0.974  ...                          0.121   \n",
       "2          -0.991  ...                          0.740   \n",
       "3          -0.794  ...                          0.131   \n",
       "4          -0.989  ...                          0.667   \n",
       "\n",
       "   fBodyBodyGyroJerkMag.skewness  fBodyBodyGyroJerkMag.kurtosis  \\\n",
       "0                         -0.217                        -0.5640   \n",
       "1                          0.349                         0.0577   \n",
       "2                         -0.564                        -0.7660   \n",
       "3                          0.208                        -0.0681   \n",
       "4                         -0.942                        -0.9660   \n",
       "\n",
       "   angle.tBodyAccMean.gravity  angle.tBodyAccJerkMean.gravityMean  \\\n",
       "0                     -0.2130                             -0.2310   \n",
       "1                      0.0807                              0.5960   \n",
       "2                      0.1060                             -0.0903   \n",
       "3                      0.0623                             -0.0587   \n",
       "4                      0.2450                              0.1030   \n",
       "\n",
       "   angle.tBodyGyroMean.gravityMean  angle.tBodyGyroJerkMean.gravityMean  \\\n",
       "0                           0.0146                               -0.190   \n",
       "1                          -0.4760                                0.116   \n",
       "2                          -0.1320                                0.499   \n",
       "3                           0.0312                               -0.269   \n",
       "4                           0.0661                               -0.412   \n",
       "\n",
       "   angle.X.gravityMean  angle.Y.gravityMean  angle.Z.gravityMean  \n",
       "0               -0.852                0.182              -0.0430  \n",
       "1               -0.852                0.188              -0.0347  \n",
       "2               -0.850                0.189              -0.0351  \n",
       "3               -0.731                0.283               0.0364  \n",
       "4               -0.761                0.263               0.0296  \n",
       "\n",
       "[5 rows x 563 columns]"
      ]
     },
     "execution_count": 88,
     "metadata": {},
     "output_type": "execute_result"
    }
   ],
   "source": [
    "train.head()"
   ]
  },
  {
   "cell_type": "code",
   "execution_count": 89,
   "metadata": {
    "scrolled": true
   },
   "outputs": [
    {
     "data": {
      "text/html": [
       "<div>\n",
       "<style scoped>\n",
       "    .dataframe tbody tr th:only-of-type {\n",
       "        vertical-align: middle;\n",
       "    }\n",
       "\n",
       "    .dataframe tbody tr th {\n",
       "        vertical-align: top;\n",
       "    }\n",
       "\n",
       "    .dataframe thead th {\n",
       "        text-align: right;\n",
       "    }\n",
       "</style>\n",
       "<table border=\"1\" class=\"dataframe\">\n",
       "  <thead>\n",
       "    <tr style=\"text-align: right;\">\n",
       "      <th></th>\n",
       "      <th>rn</th>\n",
       "      <th>tBodyAcc.mean.X</th>\n",
       "      <th>tBodyAcc.mean.Y</th>\n",
       "      <th>tBodyAcc.mean.Z</th>\n",
       "      <th>tBodyAcc.std.X</th>\n",
       "      <th>tBodyAcc.std.Y</th>\n",
       "      <th>tBodyAcc.std.Z</th>\n",
       "      <th>tBodyAcc.mad.X</th>\n",
       "      <th>tBodyAcc.mad.Y</th>\n",
       "      <th>tBodyAcc.mad.Z</th>\n",
       "      <th>...</th>\n",
       "      <th>fBodyBodyGyroJerkMag.meanFreq</th>\n",
       "      <th>fBodyBodyGyroJerkMag.skewness</th>\n",
       "      <th>fBodyBodyGyroJerkMag.kurtosis</th>\n",
       "      <th>angle.tBodyAccMean.gravity</th>\n",
       "      <th>angle.tBodyAccJerkMean.gravityMean</th>\n",
       "      <th>angle.tBodyGyroMean.gravityMean</th>\n",
       "      <th>angle.tBodyGyroJerkMean.gravityMean</th>\n",
       "      <th>angle.X.gravityMean</th>\n",
       "      <th>angle.Y.gravityMean</th>\n",
       "      <th>angle.Z.gravityMean</th>\n",
       "    </tr>\n",
       "  </thead>\n",
       "  <tbody>\n",
       "    <tr>\n",
       "      <th>0</th>\n",
       "      <td>3</td>\n",
       "      <td>0.280</td>\n",
       "      <td>-0.0195</td>\n",
       "      <td>-0.113</td>\n",
       "      <td>-0.995</td>\n",
       "      <td>-0.967</td>\n",
       "      <td>-0.979</td>\n",
       "      <td>-0.997</td>\n",
       "      <td>-0.964</td>\n",
       "      <td>-0.977</td>\n",
       "      <td>...</td>\n",
       "      <td>0.4150</td>\n",
       "      <td>-0.391</td>\n",
       "      <td>-0.760</td>\n",
       "      <td>-0.11900</td>\n",
       "      <td>0.1780</td>\n",
       "      <td>0.101</td>\n",
       "      <td>0.809</td>\n",
       "      <td>-0.849</td>\n",
       "      <td>0.181</td>\n",
       "      <td>-0.0491</td>\n",
       "    </tr>\n",
       "    <tr>\n",
       "      <th>1</th>\n",
       "      <td>5</td>\n",
       "      <td>0.277</td>\n",
       "      <td>-0.0166</td>\n",
       "      <td>-0.115</td>\n",
       "      <td>-0.998</td>\n",
       "      <td>-0.981</td>\n",
       "      <td>-0.990</td>\n",
       "      <td>-0.998</td>\n",
       "      <td>-0.980</td>\n",
       "      <td>-0.990</td>\n",
       "      <td>...</td>\n",
       "      <td>0.0878</td>\n",
       "      <td>-0.351</td>\n",
       "      <td>-0.699</td>\n",
       "      <td>0.12300</td>\n",
       "      <td>0.1230</td>\n",
       "      <td>0.694</td>\n",
       "      <td>-0.616</td>\n",
       "      <td>-0.848</td>\n",
       "      <td>0.185</td>\n",
       "      <td>-0.0439</td>\n",
       "    </tr>\n",
       "    <tr>\n",
       "      <th>2</th>\n",
       "      <td>9</td>\n",
       "      <td>0.277</td>\n",
       "      <td>-0.0218</td>\n",
       "      <td>-0.121</td>\n",
       "      <td>-0.997</td>\n",
       "      <td>-0.961</td>\n",
       "      <td>-0.984</td>\n",
       "      <td>-0.998</td>\n",
       "      <td>-0.957</td>\n",
       "      <td>-0.984</td>\n",
       "      <td>...</td>\n",
       "      <td>0.3140</td>\n",
       "      <td>-0.269</td>\n",
       "      <td>-0.573</td>\n",
       "      <td>0.01300</td>\n",
       "      <td>0.0809</td>\n",
       "      <td>-0.234</td>\n",
       "      <td>0.118</td>\n",
       "      <td>-0.848</td>\n",
       "      <td>0.189</td>\n",
       "      <td>-0.0374</td>\n",
       "    </tr>\n",
       "    <tr>\n",
       "      <th>3</th>\n",
       "      <td>17</td>\n",
       "      <td>0.279</td>\n",
       "      <td>-0.0148</td>\n",
       "      <td>-0.117</td>\n",
       "      <td>-0.997</td>\n",
       "      <td>-0.982</td>\n",
       "      <td>-0.983</td>\n",
       "      <td>-0.997</td>\n",
       "      <td>-0.982</td>\n",
       "      <td>-0.981</td>\n",
       "      <td>...</td>\n",
       "      <td>0.5610</td>\n",
       "      <td>-0.779</td>\n",
       "      <td>-0.940</td>\n",
       "      <td>-0.00145</td>\n",
       "      <td>-0.0481</td>\n",
       "      <td>-0.340</td>\n",
       "      <td>-0.229</td>\n",
       "      <td>-0.759</td>\n",
       "      <td>0.264</td>\n",
       "      <td>0.0270</td>\n",
       "    </tr>\n",
       "    <tr>\n",
       "      <th>4</th>\n",
       "      <td>26</td>\n",
       "      <td>0.279</td>\n",
       "      <td>-0.0145</td>\n",
       "      <td>-0.107</td>\n",
       "      <td>-0.998</td>\n",
       "      <td>-0.986</td>\n",
       "      <td>-0.993</td>\n",
       "      <td>-0.998</td>\n",
       "      <td>-0.985</td>\n",
       "      <td>-0.995</td>\n",
       "      <td>...</td>\n",
       "      <td>0.6770</td>\n",
       "      <td>-0.715</td>\n",
       "      <td>-0.937</td>\n",
       "      <td>0.02570</td>\n",
       "      <td>0.0665</td>\n",
       "      <td>-0.226</td>\n",
       "      <td>-0.225</td>\n",
       "      <td>-0.762</td>\n",
       "      <td>0.262</td>\n",
       "      <td>0.0294</td>\n",
       "    </tr>\n",
       "  </tbody>\n",
       "</table>\n",
       "<p>5 rows × 562 columns</p>\n",
       "</div>"
      ],
      "text/plain": [
       "   rn  tBodyAcc.mean.X  tBodyAcc.mean.Y  tBodyAcc.mean.Z  tBodyAcc.std.X  \\\n",
       "0   3            0.280          -0.0195           -0.113          -0.995   \n",
       "1   5            0.277          -0.0166           -0.115          -0.998   \n",
       "2   9            0.277          -0.0218           -0.121          -0.997   \n",
       "3  17            0.279          -0.0148           -0.117          -0.997   \n",
       "4  26            0.279          -0.0145           -0.107          -0.998   \n",
       "\n",
       "   tBodyAcc.std.Y  tBodyAcc.std.Z  tBodyAcc.mad.X  tBodyAcc.mad.Y  \\\n",
       "0          -0.967          -0.979          -0.997          -0.964   \n",
       "1          -0.981          -0.990          -0.998          -0.980   \n",
       "2          -0.961          -0.984          -0.998          -0.957   \n",
       "3          -0.982          -0.983          -0.997          -0.982   \n",
       "4          -0.986          -0.993          -0.998          -0.985   \n",
       "\n",
       "   tBodyAcc.mad.Z  ...  fBodyBodyGyroJerkMag.meanFreq  \\\n",
       "0          -0.977  ...                         0.4150   \n",
       "1          -0.990  ...                         0.0878   \n",
       "2          -0.984  ...                         0.3140   \n",
       "3          -0.981  ...                         0.5610   \n",
       "4          -0.995  ...                         0.6770   \n",
       "\n",
       "   fBodyBodyGyroJerkMag.skewness  fBodyBodyGyroJerkMag.kurtosis  \\\n",
       "0                         -0.391                         -0.760   \n",
       "1                         -0.351                         -0.699   \n",
       "2                         -0.269                         -0.573   \n",
       "3                         -0.779                         -0.940   \n",
       "4                         -0.715                         -0.937   \n",
       "\n",
       "   angle.tBodyAccMean.gravity  angle.tBodyAccJerkMean.gravityMean  \\\n",
       "0                    -0.11900                              0.1780   \n",
       "1                     0.12300                              0.1230   \n",
       "2                     0.01300                              0.0809   \n",
       "3                    -0.00145                             -0.0481   \n",
       "4                     0.02570                              0.0665   \n",
       "\n",
       "   angle.tBodyGyroMean.gravityMean  angle.tBodyGyroJerkMean.gravityMean  \\\n",
       "0                            0.101                                0.809   \n",
       "1                            0.694                               -0.616   \n",
       "2                           -0.234                                0.118   \n",
       "3                           -0.340                               -0.229   \n",
       "4                           -0.226                               -0.225   \n",
       "\n",
       "   angle.X.gravityMean  angle.Y.gravityMean  angle.Z.gravityMean  \n",
       "0               -0.849                0.181              -0.0491  \n",
       "1               -0.848                0.185              -0.0439  \n",
       "2               -0.848                0.189              -0.0374  \n",
       "3               -0.759                0.264               0.0270  \n",
       "4               -0.762                0.262               0.0294  \n",
       "\n",
       "[5 rows x 562 columns]"
      ]
     },
     "execution_count": 89,
     "metadata": {},
     "output_type": "execute_result"
    }
   ],
   "source": [
    "test.head()"
   ]
  },
  {
   "cell_type": "code",
   "execution_count": 90,
   "metadata": {},
   "outputs": [
    {
     "name": "stdout",
     "output_type": "stream",
     "text": [
      "Activity labels: ['STANDING' 'SITTING' 'LAYING' 'WALKING' 'WALKING_DOWNSTAIRS'\n",
      " 'WALKING_UPSTAIRS']\n"
     ]
    }
   ],
   "source": [
    "# Save the labels separately and drop rn and activity columns from train dataset\n",
    "\n",
    "labels = train['activity'].copy()\n",
    "label_keys = np.array(labels.unique())\n",
    "print('Activity labels: ' + str(label_keys))"
   ]
  },
  {
   "cell_type": "code",
   "execution_count": 91,
   "metadata": {},
   "outputs": [],
   "source": [
    "train.drop(['rn','activity'], axis=1,inplace=True)\n",
    "test.drop('rn',axis=1, inplace=True)"
   ]
  },
  {
   "cell_type": "code",
   "execution_count": 92,
   "metadata": {},
   "outputs": [
    {
     "data": {
      "text/plain": [
       "False"
      ]
     },
     "execution_count": 92,
     "metadata": {},
     "output_type": "execute_result"
    }
   ],
   "source": [
    "# check for missing values\n",
    "all(train.isnull().sum())    "
   ]
  },
  {
   "cell_type": "code",
   "execution_count": 119,
   "metadata": {},
   "outputs": [],
   "source": [
    "# Normalize the dataset\n",
    "scaler = StandardScaler()\n",
    "X_scaled = scaler.fit_transform(train)\n",
    "y_scaled = scaler.fit_transform(test)"
   ]
  },
  {
   "cell_type": "markdown",
   "metadata": {},
   "source": [
    "<h1>Clustering Analysis using K-means</h1>"
   ]
  },
  {
   "cell_type": "code",
   "execution_count": 121,
   "metadata": {},
   "outputs": [],
   "source": [
    "# check for the optimum k value\n",
    "k_range = range(1,10)\n",
    "inertias=[]\n",
    "for k in k_range:\n",
    "    model = KMeans(n_clusters = k)\n",
    "    model.fit(X_scaled)\n",
    "    inertias.append(model.inertia_)"
   ]
  },
  {
   "cell_type": "code",
   "execution_count": 192,
   "metadata": {},
   "outputs": [
    {
     "data": {
      "image/png": "[encoded data removed]",
      "text/plain": [
       "<Figure size 576x360 with 1 Axes>"
      ]
     },
     "metadata": {
      "needs_background": "light"
     },
     "output_type": "display_data"
    }
   ],
   "source": [
    "# plot inertia vs the k values range - Elbow plot    \n",
    "plt.figure(figsize=(8,5))\n",
    "plt.title(\"Elbow Plot\")\n",
    "plt.style.use('bmh')\n",
    "plt.plot(k_range, inertias, '-o')\n",
    "plt.xlabel('Number of clusters, k')\n",
    "plt.ylabel('Inertia')\n",
    "plt.xticks(k_range)\n",
    "plt.show()"
   ]
  },
  {
   "cell_type": "code",
   "execution_count": 130,
   "metadata": {},
   "outputs": [
    {
     "data": {
      "text/plain": [
       "KMeans(algorithm='auto', copy_x=True, init='k-means++', max_iter=300,\n",
       "       n_clusters=2, n_init=30, n_jobs=None, precompute_distances='auto',\n",
       "       random_state=123, tol=0.0001, verbose=0)"
      ]
     },
     "execution_count": 130,
     "metadata": {},
     "output_type": "execute_result"
    }
   ],
   "source": [
    "k_means = KMeans(n_clusters=2, random_state=123, n_init=30)\n",
    "k_means.fit(X_scaled)"
   ]
  },
  {
   "cell_type": "code",
   "execution_count": 131,
   "metadata": {},
   "outputs": [],
   "source": [
    "predicted_train = pd.DataFrame({\"predicted_labels\":k_means.labels_,\"original_labels\": labels.tolist()}).head(50)"
   ]
  },
  {
   "cell_type": "code",
   "execution_count": 132,
   "metadata": {},
   "outputs": [
    {
     "data": {
      "text/html": [
       "<div>\n",
       "<style scoped>\n",
       "    .dataframe tbody tr th:only-of-type {\n",
       "        vertical-align: middle;\n",
       "    }\n",
       "\n",
       "    .dataframe tbody tr th {\n",
       "        vertical-align: top;\n",
       "    }\n",
       "\n",
       "    .dataframe thead th {\n",
       "        text-align: right;\n",
       "    }\n",
       "</style>\n",
       "<table border=\"1\" class=\"dataframe\">\n",
       "  <thead>\n",
       "    <tr style=\"text-align: right;\">\n",
       "      <th></th>\n",
       "      <th>predicted_labels</th>\n",
       "      <th>original_labels</th>\n",
       "    </tr>\n",
       "  </thead>\n",
       "  <tbody>\n",
       "    <tr>\n",
       "      <th>0</th>\n",
       "      <td>0</td>\n",
       "      <td>STANDING</td>\n",
       "    </tr>\n",
       "    <tr>\n",
       "      <th>1</th>\n",
       "      <td>0</td>\n",
       "      <td>STANDING</td>\n",
       "    </tr>\n",
       "    <tr>\n",
       "      <th>2</th>\n",
       "      <td>0</td>\n",
       "      <td>STANDING</td>\n",
       "    </tr>\n",
       "    <tr>\n",
       "      <th>3</th>\n",
       "      <td>0</td>\n",
       "      <td>STANDING</td>\n",
       "    </tr>\n",
       "    <tr>\n",
       "      <th>4</th>\n",
       "      <td>0</td>\n",
       "      <td>STANDING</td>\n",
       "    </tr>\n",
       "    <tr>\n",
       "      <th>5</th>\n",
       "      <td>0</td>\n",
       "      <td>STANDING</td>\n",
       "    </tr>\n",
       "    <tr>\n",
       "      <th>6</th>\n",
       "      <td>0</td>\n",
       "      <td>STANDING</td>\n",
       "    </tr>\n",
       "    <tr>\n",
       "      <th>7</th>\n",
       "      <td>0</td>\n",
       "      <td>STANDING</td>\n",
       "    </tr>\n",
       "    <tr>\n",
       "      <th>8</th>\n",
       "      <td>0</td>\n",
       "      <td>SITTING</td>\n",
       "    </tr>\n",
       "    <tr>\n",
       "      <th>9</th>\n",
       "      <td>0</td>\n",
       "      <td>SITTING</td>\n",
       "    </tr>\n",
       "    <tr>\n",
       "      <th>10</th>\n",
       "      <td>0</td>\n",
       "      <td>SITTING</td>\n",
       "    </tr>\n",
       "    <tr>\n",
       "      <th>11</th>\n",
       "      <td>0</td>\n",
       "      <td>SITTING</td>\n",
       "    </tr>\n",
       "    <tr>\n",
       "      <th>12</th>\n",
       "      <td>0</td>\n",
       "      <td>SITTING</td>\n",
       "    </tr>\n",
       "    <tr>\n",
       "      <th>13</th>\n",
       "      <td>0</td>\n",
       "      <td>SITTING</td>\n",
       "    </tr>\n",
       "    <tr>\n",
       "      <th>14</th>\n",
       "      <td>0</td>\n",
       "      <td>SITTING</td>\n",
       "    </tr>\n",
       "    <tr>\n",
       "      <th>15</th>\n",
       "      <td>0</td>\n",
       "      <td>LAYING</td>\n",
       "    </tr>\n",
       "    <tr>\n",
       "      <th>16</th>\n",
       "      <td>0</td>\n",
       "      <td>LAYING</td>\n",
       "    </tr>\n",
       "    <tr>\n",
       "      <th>17</th>\n",
       "      <td>0</td>\n",
       "      <td>LAYING</td>\n",
       "    </tr>\n",
       "    <tr>\n",
       "      <th>18</th>\n",
       "      <td>0</td>\n",
       "      <td>LAYING</td>\n",
       "    </tr>\n",
       "    <tr>\n",
       "      <th>19</th>\n",
       "      <td>0</td>\n",
       "      <td>LAYING</td>\n",
       "    </tr>\n",
       "    <tr>\n",
       "      <th>20</th>\n",
       "      <td>0</td>\n",
       "      <td>LAYING</td>\n",
       "    </tr>\n",
       "    <tr>\n",
       "      <th>21</th>\n",
       "      <td>0</td>\n",
       "      <td>LAYING</td>\n",
       "    </tr>\n",
       "    <tr>\n",
       "      <th>22</th>\n",
       "      <td>0</td>\n",
       "      <td>LAYING</td>\n",
       "    </tr>\n",
       "    <tr>\n",
       "      <th>23</th>\n",
       "      <td>0</td>\n",
       "      <td>LAYING</td>\n",
       "    </tr>\n",
       "    <tr>\n",
       "      <th>24</th>\n",
       "      <td>0</td>\n",
       "      <td>LAYING</td>\n",
       "    </tr>\n",
       "    <tr>\n",
       "      <th>25</th>\n",
       "      <td>1</td>\n",
       "      <td>LAYING</td>\n",
       "    </tr>\n",
       "    <tr>\n",
       "      <th>26</th>\n",
       "      <td>1</td>\n",
       "      <td>WALKING</td>\n",
       "    </tr>\n",
       "    <tr>\n",
       "      <th>27</th>\n",
       "      <td>1</td>\n",
       "      <td>WALKING</td>\n",
       "    </tr>\n",
       "    <tr>\n",
       "      <th>28</th>\n",
       "      <td>1</td>\n",
       "      <td>WALKING</td>\n",
       "    </tr>\n",
       "    <tr>\n",
       "      <th>29</th>\n",
       "      <td>1</td>\n",
       "      <td>WALKING</td>\n",
       "    </tr>\n",
       "    <tr>\n",
       "      <th>30</th>\n",
       "      <td>1</td>\n",
       "      <td>WALKING</td>\n",
       "    </tr>\n",
       "    <tr>\n",
       "      <th>31</th>\n",
       "      <td>1</td>\n",
       "      <td>WALKING</td>\n",
       "    </tr>\n",
       "    <tr>\n",
       "      <th>32</th>\n",
       "      <td>1</td>\n",
       "      <td>WALKING</td>\n",
       "    </tr>\n",
       "    <tr>\n",
       "      <th>33</th>\n",
       "      <td>1</td>\n",
       "      <td>WALKING</td>\n",
       "    </tr>\n",
       "    <tr>\n",
       "      <th>34</th>\n",
       "      <td>1</td>\n",
       "      <td>WALKING</td>\n",
       "    </tr>\n",
       "    <tr>\n",
       "      <th>35</th>\n",
       "      <td>1</td>\n",
       "      <td>WALKING</td>\n",
       "    </tr>\n",
       "    <tr>\n",
       "      <th>36</th>\n",
       "      <td>1</td>\n",
       "      <td>WALKING</td>\n",
       "    </tr>\n",
       "    <tr>\n",
       "      <th>37</th>\n",
       "      <td>1</td>\n",
       "      <td>WALKING</td>\n",
       "    </tr>\n",
       "    <tr>\n",
       "      <th>38</th>\n",
       "      <td>1</td>\n",
       "      <td>WALKING</td>\n",
       "    </tr>\n",
       "    <tr>\n",
       "      <th>39</th>\n",
       "      <td>1</td>\n",
       "      <td>WALKING</td>\n",
       "    </tr>\n",
       "    <tr>\n",
       "      <th>40</th>\n",
       "      <td>1</td>\n",
       "      <td>WALKING</td>\n",
       "    </tr>\n",
       "    <tr>\n",
       "      <th>41</th>\n",
       "      <td>1</td>\n",
       "      <td>WALKING_DOWNSTAIRS</td>\n",
       "    </tr>\n",
       "    <tr>\n",
       "      <th>42</th>\n",
       "      <td>1</td>\n",
       "      <td>WALKING_DOWNSTAIRS</td>\n",
       "    </tr>\n",
       "    <tr>\n",
       "      <th>43</th>\n",
       "      <td>1</td>\n",
       "      <td>WALKING_DOWNSTAIRS</td>\n",
       "    </tr>\n",
       "    <tr>\n",
       "      <th>44</th>\n",
       "      <td>1</td>\n",
       "      <td>WALKING_DOWNSTAIRS</td>\n",
       "    </tr>\n",
       "    <tr>\n",
       "      <th>45</th>\n",
       "      <td>1</td>\n",
       "      <td>WALKING_DOWNSTAIRS</td>\n",
       "    </tr>\n",
       "    <tr>\n",
       "      <th>46</th>\n",
       "      <td>1</td>\n",
       "      <td>WALKING_DOWNSTAIRS</td>\n",
       "    </tr>\n",
       "    <tr>\n",
       "      <th>47</th>\n",
       "      <td>1</td>\n",
       "      <td>WALKING_DOWNSTAIRS</td>\n",
       "    </tr>\n",
       "    <tr>\n",
       "      <th>48</th>\n",
       "      <td>1</td>\n",
       "      <td>WALKING_DOWNSTAIRS</td>\n",
       "    </tr>\n",
       "    <tr>\n",
       "      <th>49</th>\n",
       "      <td>1</td>\n",
       "      <td>WALKING_DOWNSTAIRS</td>\n",
       "    </tr>\n",
       "  </tbody>\n",
       "</table>\n",
       "</div>"
      ],
      "text/plain": [
       "    predicted_labels     original_labels\n",
       "0                  0            STANDING\n",
       "1                  0            STANDING\n",
       "2                  0            STANDING\n",
       "3                  0            STANDING\n",
       "4                  0            STANDING\n",
       "5                  0            STANDING\n",
       "6                  0            STANDING\n",
       "7                  0            STANDING\n",
       "8                  0             SITTING\n",
       "9                  0             SITTING\n",
       "10                 0             SITTING\n",
       "11                 0             SITTING\n",
       "12                 0             SITTING\n",
       "13                 0             SITTING\n",
       "14                 0             SITTING\n",
       "15                 0              LAYING\n",
       "16                 0              LAYING\n",
       "17                 0              LAYING\n",
       "18                 0              LAYING\n",
       "19                 0              LAYING\n",
       "20                 0              LAYING\n",
       "21                 0              LAYING\n",
       "22                 0              LAYING\n",
       "23                 0              LAYING\n",
       "24                 0              LAYING\n",
       "25                 1              LAYING\n",
       "26                 1             WALKING\n",
       "27                 1             WALKING\n",
       "28                 1             WALKING\n",
       "29                 1             WALKING\n",
       "30                 1             WALKING\n",
       "31                 1             WALKING\n",
       "32                 1             WALKING\n",
       "33                 1             WALKING\n",
       "34                 1             WALKING\n",
       "35                 1             WALKING\n",
       "36                 1             WALKING\n",
       "37                 1             WALKING\n",
       "38                 1             WALKING\n",
       "39                 1             WALKING\n",
       "40                 1             WALKING\n",
       "41                 1  WALKING_DOWNSTAIRS\n",
       "42                 1  WALKING_DOWNSTAIRS\n",
       "43                 1  WALKING_DOWNSTAIRS\n",
       "44                 1  WALKING_DOWNSTAIRS\n",
       "45                 1  WALKING_DOWNSTAIRS\n",
       "46                 1  WALKING_DOWNSTAIRS\n",
       "47                 1  WALKING_DOWNSTAIRS\n",
       "48                 1  WALKING_DOWNSTAIRS\n",
       "49                 1  WALKING_DOWNSTAIRS"
      ]
     },
     "execution_count": 132,
     "metadata": {},
     "output_type": "execute_result"
    }
   ],
   "source": [
    "predicted_train.head(50)"
   ]
  },
  {
   "cell_type": "markdown",
   "metadata": {},
   "source": [
    "<h3>The clustering algorithm has predicted 2 classes of activites</h3>\n",
    "<ol>\n",
    "    <li>0 - Not Moving</li>\n",
    "    <li>1 - Moving</li>\n",
    "</ol>"
   ]
  },
  {
   "cell_type": "code",
   "execution_count": 140,
   "metadata": {},
   "outputs": [],
   "source": [
    "# predict for the test set\n",
    "pred_labels = k_means.predict(y_scaled)"
   ]
  },
  {
   "cell_type": "code",
   "execution_count": 141,
   "metadata": {},
   "outputs": [
    {
     "name": "stdout",
     "output_type": "stream",
     "text": [
      "Training score: 0.38990168994287766\n",
      "Test score: 0.40032398500421484\n"
     ]
    }
   ],
   "source": [
    "# Evaluate Model\n",
    "print(\"Training score: \"+str(silhouette_score(X_scaled, k_means.labels_)))\n",
    "print(\"Test score: \"+str(silhouette_score(y_scaled, pred_labels)))"
   ]
  },
  {
   "cell_type": "code",
   "execution_count": 184,
   "metadata": {},
   "outputs": [
    {
     "data": {
      "text/plain": [
       "(3609, 2)"
      ]
     },
     "execution_count": 184,
     "metadata": {},
     "output_type": "execute_result"
    }
   ],
   "source": [
    "# Reduce the dimensions of the input dataset \n",
    "X_reducedKmeans = k_means.transform(X_scaled)\n",
    "X_reducedKmeans.shape"
   ]
  },
  {
   "cell_type": "markdown",
   "metadata": {},
   "source": [
    "<h3>Mini Batch KMeans</h3>"
   ]
  },
  {
   "cell_type": "code",
   "execution_count": 154,
   "metadata": {},
   "outputs": [],
   "source": [
    "mbKMeans = MiniBatchKMeans(n_clusters=2)\n",
    "X_labeled = mbKMeans.fit_predict(X_scaled)\n",
    "y_labeled = mbKMeans.predict(y_scaled)"
   ]
  },
  {
   "cell_type": "code",
   "execution_count": 155,
   "metadata": {},
   "outputs": [
    {
     "name": "stdout",
     "output_type": "stream",
     "text": [
      "Training score: 0.3898938722126897\n",
      "Test score: 0.40032398500421484\n"
     ]
    }
   ],
   "source": [
    "# Evaluate Model - MiniBatchKMeans\n",
    "print(\"Training score: \"+str(silhouette_score(X_scaled, X_labeled)))\n",
    "print(\"Test score: \"+str(silhouette_score(y_scaled, y_labeled)))"
   ]
  },
  {
   "cell_type": "markdown",
   "metadata": {},
   "source": [
    "<h1>PCA</h1>"
   ]
  },
  {
   "cell_type": "code",
   "execution_count": 156,
   "metadata": {},
   "outputs": [],
   "source": [
    "#check for optimal number of features\n",
    "pca = PCA(random_state=123)\n",
    "pca.fit(X_scaled)\n",
    "features = range(pca.n_components_)"
   ]
  },
  {
   "cell_type": "code",
   "execution_count": 191,
   "metadata": {},
   "outputs": [
    {
     "data": {
      "image/png": "[encoded data removed]",
      "text/plain": [
       "<Figure size 576x288 with 1 Axes>"
      ]
     },
     "metadata": {
      "needs_background": "light"
     },
     "output_type": "display_data"
    }
   ],
   "source": [
    "plt.figure(figsize=(8,4))\n",
    "plt.title(\"Variance vs Principal Components\")\n",
    "plt.bar(features[:15], pca.explained_variance_[:15], color='lightskyblue')\n",
    "plt.xlabel('PCA feature')\n",
    "plt.ylabel('Variance')\n",
    "plt.xticks(features[:15])\n",
    "plt.show()"
   ]
  },
  {
   "cell_type": "code",
   "execution_count": 180,
   "metadata": {},
   "outputs": [],
   "source": [
    "def pca_transform(n_comp):\n",
    "    pca = PCA(n_components=n_comp, random_state=123)\n",
    "    global Data_reduced\n",
    "    Data_reduced  = pca.fit_transform(X_scaled)\n",
    "    print(\"'Shape of the new Data df: \" + str(Data_reduced.shape))"
   ]
  },
  {
   "cell_type": "code",
   "execution_count": 182,
   "metadata": {},
   "outputs": [
    {
     "name": "stdout",
     "output_type": "stream",
     "text": [
      "'Shape of the new Data df: (3609, 1)\n"
     ]
    }
   ],
   "source": [
    "# Since the first principle component seems to contain most of the variance, we set n_components\n",
    "pca_transform(n_comp=1)"
   ]
  },
  {
   "cell_type": "code",
   "execution_count": 190,
   "metadata": {},
   "outputs": [
    {
     "data": {
      "text/plain": [
       "array([[-15.14315696],\n",
       "       [-14.54146473],\n",
       "       [-16.22468416],\n",
       "       ...,\n",
       "       [  8.67705607],\n",
       "       [  7.72533318],\n",
       "       [ 15.63341286]])"
      ]
     },
     "execution_count": 190,
     "metadata": {},
     "output_type": "execute_result"
    }
   ],
   "source": [
    "Data_reduced"
   ]
  },
  {
   "cell_type": "code",
   "execution_count": 183,
   "metadata": {},
   "outputs": [
    {
     "data": {
      "text/plain": [
       "(3609, 102)"
      ]
     },
     "execution_count": 183,
     "metadata": {},
     "output_type": "execute_result"
    }
   ],
   "source": [
    "# method 2 to do pca (The 0.95 means that we require 95% variance in the reduced dataset)\n",
    "pca2 = PCA(0.95)\n",
    "reduced_X = pca2.fit_transform(X_scaled)\n",
    "reduced_X.shape"
   ]
  },
  {
   "cell_type": "markdown",
   "metadata": {},
   "source": [
    "<p>In order to include 95% variance, we would have to have 102 dimensions as per the above</p>"
   ]
  },
  {
   "cell_type": "markdown",
   "metadata": {},
   "source": [
    "<h3>Incremental PCA</h3>"
   ]
  },
  {
   "cell_type": "code",
   "execution_count": 189,
   "metadata": {},
   "outputs": [
    {
     "data": {
      "text/plain": [
       "(3609, 1)"
      ]
     },
     "execution_count": 189,
     "metadata": {},
     "output_type": "execute_result"
    }
   ],
   "source": [
    "Ipca = IncrementalPCA(n_components=1)\n",
    "n_batches = 100\n",
    "for X_batch in np.array_split(X_scaled, n_batches):\n",
    "    Ipca.partial_fit(X_scaled)\n",
    "X_reducedIpca = Ipca.transform(X_scaled)\n",
    "X_reducedIpca.shape"
   ]
  },
  {
   "cell_type": "markdown",
   "metadata": {},
   "source": [
    "<h2>Combining PCA and KMeans Clustering</h2>"
   ]
  },
  {
   "cell_type": "code",
   "execution_count": 203,
   "metadata": {},
   "outputs": [],
   "source": [
    "pca = PCA(n_components=1)\n",
    "data_reduced = pca.fit_transform(X_scaled)\n",
    "data_reduced_y = pca.fit_transform(y_scaled)\n",
    "k_means = KMeans(n_clusters=2, random_state=123, n_init=30)"
   ]
  },
  {
   "cell_type": "code",
   "execution_count": 204,
   "metadata": {},
   "outputs": [
    {
     "data": {
      "text/plain": [
       "KMeans(algorithm='auto', copy_x=True, init='k-means++', max_iter=300,\n",
       "       n_clusters=2, n_init=30, n_jobs=None, precompute_distances='auto',\n",
       "       random_state=123, tol=0.0001, verbose=0)"
      ]
     },
     "execution_count": 204,
     "metadata": {},
     "output_type": "execute_result"
    }
   ],
   "source": [
    "k_means.fit(data_reduced)"
   ]
  },
  {
   "cell_type": "code",
   "execution_count": 207,
   "metadata": {},
   "outputs": [],
   "source": [
    "pred = k_means.predict(data_reduced_y)"
   ]
  },
  {
   "cell_type": "code",
   "execution_count": 209,
   "metadata": {},
   "outputs": [
    {
     "name": "stdout",
     "output_type": "stream",
     "text": [
      "Training score: 0.7941361821630083\n",
      "Test score: 0.8099024078639874\n"
     ]
    }
   ],
   "source": [
    "# Evaluate Model\n",
    "print(\"Training score: \"+str(silhouette_score(data_reduced, k_means.labels_)))\n",
    "print(\"Test score: \"+str(silhouette_score(data_reduced_y, pred)))"
   ]
  },
  {
   "cell_type": "code",
   "execution_count": 210,
   "metadata": {},
   "outputs": [],
   "source": [
    "# The silhouette score has improved for both train and test datasets by more than 100%"
   ]
  },
  {
   "cell_type": "code",
   "execution_count": null,
   "metadata": {},
   "outputs": [],
   "source": []
  }
 ],
 "metadata": {
  "kernelspec": {
   "display_name": "Python 3",
   "language": "python",
   "name": "python3"
  },
  "language_info": {
   "codemirror_mode": {
    "name": "ipython",
    "version": 3
   },
   "file_extension": ".py",
   "mimetype": "text/x-python",
   "name": "python",
   "nbconvert_exporter": "python",
   "pygments_lexer": "ipython3",
   "version": "3.7.3"
  }
 },
 "nbformat": 4,
 "nbformat_minor": 2
}
