{
 "cells": [
  {
   "cell_type": "code",
   "execution_count": 17,
   "metadata": {},
   "outputs": [],
   "source": [
    "from sklearn.datasets import load_iris\n",
    "from sklearn.ensemble import RandomForestClassifier\n",
    "from sklearn.model_selection import train_test_split\n",
    "from sklearn.metrics import accuracy_score\n",
    "from sklearn.model_selection import GridSearchCV\n",
    "import numpy as np"
   ]
  },
  {
   "cell_type": "code",
   "execution_count": 24,
   "metadata": {},
   "outputs": [],
   "source": [
    "# Load the data\n",
    "X, y = load_iris(return_X_y=True)\n",
    "X_train, X_test, y_train, y_test = train_test_split(X, y, test_size=0.3, random_state=123)"
   ]
  },
  {
   "cell_type": "markdown",
   "metadata": {},
   "source": [
    "<h2>GridSearchCV</h2>"
   ]
  },
  {
   "cell_type": "code",
   "execution_count": 25,
   "metadata": {},
   "outputs": [],
   "source": [
    "rf = RandomForestClassifier()"
   ]
  },
  {
   "cell_type": "code",
   "execution_count": 26,
   "metadata": {},
   "outputs": [
    {
     "name": "stderr",
     "output_type": "stream",
     "text": [
      "C:\\Users\\Srivatsa\\Anaconda3\\lib\\site-packages\\sklearn\\model_selection\\_search.py:813: DeprecationWarning: The default of the `iid` parameter will change from True to False in version 0.22 and will be removed in 0.24. This will change numeric results when test-set sizes are unequal.\n",
      "  DeprecationWarning)\n"
     ]
    },
    {
     "data": {
      "text/plain": [
       "GridSearchCV(cv=5, error_score='raise-deprecating',\n",
       "             estimator=RandomForestClassifier(bootstrap=True, class_weight=None,\n",
       "                                              criterion='gini', max_depth=None,\n",
       "                                              max_features='auto',\n",
       "                                              max_leaf_nodes=None,\n",
       "                                              min_impurity_decrease=0.0,\n",
       "                                              min_impurity_split=None,\n",
       "                                              min_samples_leaf=1,\n",
       "                                              min_samples_split=2,\n",
       "                                              min_weight_fraction_leaf=0.0,\n",
       "                                              n_estimators='warn', n_jobs=None,\n",
       "                                              oob_score=False,\n",
       "                                              random_state=None, verbose=0,\n",
       "                                              warm_start=False),\n",
       "             iid='warn', n_jobs=None,\n",
       "             param_grid={'bootstrap': [False],\n",
       "                         'max_leaf_nodes': [16, 12, 18, 20],\n",
       "                         'n_estimators': [50, 100, 150, 300]},\n",
       "             pre_dispatch='2*n_jobs', refit=True, return_train_score=True,\n",
       "             scoring='neg_mean_squared_error', verbose=0)"
      ]
     },
     "execution_count": 26,
     "metadata": {},
     "output_type": "execute_result"
    }
   ],
   "source": [
    "param_grid = {\n",
    "    'n_estimators':[50,100,150,300],\n",
    "    'bootstrap':[False],\n",
    "    'max_leaf_nodes':[16, 12, 18, 20]\n",
    "}\n",
    "\n",
    "grid_search = GridSearchCV(estimator=rf,\n",
    "                          param_grid=param_grid,\n",
    "                          cv=5,\n",
    "                          scoring='neg_mean_squared_error',\n",
    "                          return_train_score=True)\n",
    "\n",
    "grid_search.fit(X_train, y_train)"
   ]
  },
  {
   "cell_type": "code",
   "execution_count": 27,
   "metadata": {},
   "outputs": [
    {
     "data": {
      "text/plain": [
       "{'bootstrap': False, 'max_leaf_nodes': 18, 'n_estimators': 50}"
      ]
     },
     "execution_count": 27,
     "metadata": {},
     "output_type": "execute_result"
    }
   ],
   "source": [
    "# Check the best parameters\n",
    "grid_search.best_params_"
   ]
  },
  {
   "cell_type": "code",
   "execution_count": 28,
   "metadata": {},
   "outputs": [],
   "source": [
    "# Get the best model\n",
    "final_model = grid_search.best_estimator_"
   ]
  },
  {
   "cell_type": "code",
   "execution_count": 22,
   "metadata": {},
   "outputs": [
    {
     "name": "stdout",
     "output_type": "stream",
     "text": [
      "0.2 {'bootstrap': False, 'max_leaf_nodes': 16, 'n_estimators': 50}\n",
      "0.18257418583505536 {'bootstrap': False, 'max_leaf_nodes': 16, 'n_estimators': 100}\n",
      "0.2 {'bootstrap': False, 'max_leaf_nodes': 16, 'n_estimators': 150}\n",
      "0.2 {'bootstrap': False, 'max_leaf_nodes': 16, 'n_estimators': 300}\n",
      "0.18257418583505536 {'bootstrap': False, 'max_leaf_nodes': 12, 'n_estimators': 50}\n",
      "0.2 {'bootstrap': False, 'max_leaf_nodes': 12, 'n_estimators': 100}\n",
      "0.2 {'bootstrap': False, 'max_leaf_nodes': 12, 'n_estimators': 150}\n",
      "0.2 {'bootstrap': False, 'max_leaf_nodes': 12, 'n_estimators': 300}\n",
      "0.2 {'bootstrap': False, 'max_leaf_nodes': 18, 'n_estimators': 50}\n",
      "0.2 {'bootstrap': False, 'max_leaf_nodes': 18, 'n_estimators': 100}\n",
      "0.18257418583505536 {'bootstrap': False, 'max_leaf_nodes': 18, 'n_estimators': 150}\n",
      "0.2 {'bootstrap': False, 'max_leaf_nodes': 18, 'n_estimators': 300}\n",
      "0.2 {'bootstrap': False, 'max_leaf_nodes': 20, 'n_estimators': 50}\n",
      "0.18257418583505536 {'bootstrap': False, 'max_leaf_nodes': 20, 'n_estimators': 100}\n",
      "0.2 {'bootstrap': False, 'max_leaf_nodes': 20, 'n_estimators': 150}\n",
      "0.21602468994692867 {'bootstrap': False, 'max_leaf_nodes': 20, 'n_estimators': 300}\n"
     ]
    }
   ],
   "source": [
    "cv_results = grid_search.cv_results_\n",
    "for mean_score, params in zip(cv_results['mean_test_score'], cv_results['params']):\n",
    "    print(np.sqrt(-mean_score), params)"
   ]
  },
  {
   "cell_type": "code",
   "execution_count": 29,
   "metadata": {},
   "outputs": [
    {
     "name": "stdout",
     "output_type": "stream",
     "text": [
      "Model Accuracy is 0.9333333333333333\n"
     ]
    }
   ],
   "source": [
    "# Predicting and evaluating the model\n",
    "pred = final_model.predict(X_test)\n",
    "print(\"Model Accuracy is\",accuracy_score(y_test, pred))"
   ]
  },
  {
   "cell_type": "markdown",
   "metadata": {},
   "source": [
    "<h2>RandomizedCV</h2>"
   ]
  },
  {
   "cell_type": "code",
   "execution_count": null,
   "metadata": {},
   "outputs": [],
   "source": []
  }
 ],
 "metadata": {
  "kernelspec": {
   "display_name": "Python 3",
   "language": "python",
   "name": "python3"
  },
  "language_info": {
   "codemirror_mode": {
    "name": "ipython",
    "version": 3
   },
   "file_extension": ".py",
   "mimetype": "text/x-python",
   "name": "python",
   "nbconvert_exporter": "python",
   "pygments_lexer": "ipython3",
   "version": "3.6.8"
  }
 },
 "nbformat": 4,
 "nbformat_minor": 2
}
