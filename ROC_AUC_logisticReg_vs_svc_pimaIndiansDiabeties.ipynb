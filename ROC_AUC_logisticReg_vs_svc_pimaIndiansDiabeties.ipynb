{
 "cells": [
  {
   "cell_type": "code",
   "execution_count": 4,
   "metadata": {},
   "outputs": [],
   "source": [
    "import numpy as np\n",
    "import pandas as pd\n",
    "import matplotlib.pyplot as plt\n",
    "import seaborn as sns\n",
    "from sklearn.model_selection import train_test_split\n",
    "from sklearn.preprocessing import StandardScaler\n",
    "from sklearn.linear_model import LogisticRegression\n",
    "from sklearn.svm import SVC\n",
    "from sklearn.metrics import roc_curve, auc"
   ]
  },
  {
   "cell_type": "code",
   "execution_count": 5,
   "metadata": {},
   "outputs": [],
   "source": [
    "# Load the data and prepare the train and test splits\n",
    "\n",
    "data = pd.read_csv(\"C:\\\\Users\\\\ssriva\\\\Desktop\\\\Great_Lakes_fromOfficce\\\\Datasets\\\\pima-indians-diabetes.csv\")\n",
    "X = data.iloc[:,:8]\n",
    "y = data.iloc[:,8]\n",
    "X_train, X_test, y_train, y_test = train_test_split(X, y, test_size = 0.4, random_state=123)"
   ]
  },
  {
   "cell_type": "code",
   "execution_count": 6,
   "metadata": {},
   "outputs": [],
   "source": [
    "# Model Building\n",
    "classifier1 = LogisticRegression()\n",
    "\n",
    "# We need to set the probability=True in svc if we are to use the roc and auc \n",
    "classifier2 = SVC(kernel='linear', probability=True)"
   ]
  },
  {
   "cell_type": "code",
   "execution_count": 7,
   "metadata": {},
   "outputs": [
    {
     "name": "stderr",
     "output_type": "stream",
     "text": [
      "C:\\Users\\ssriva\\AppData\\Local\\Continuum\\anaconda3\\lib\\site-packages\\sklearn\\linear_model\\logistic.py:432: FutureWarning: Default solver will be changed to 'lbfgs' in 0.22. Specify a solver to silence this warning.\n",
      "  FutureWarning)\n"
     ]
    }
   ],
   "source": [
    "# fitting of the model and prediction of class probabilities\n",
    "\n",
    "probas_1 = classifier1.fit(X_train, y_train).predict_proba(X_test)\n",
    "probas_2 = classifier2.fit(X_train, y_train).predict_proba(X_test)"
   ]
  },
  {
   "cell_type": "code",
   "execution_count": 13,
   "metadata": {},
   "outputs": [
    {
     "name": "stdout",
     "output_type": "stream",
     "text": [
      "The area under the curve for Logistic Regression classifier is 0.8337374281609196\n"
     ]
    }
   ],
   "source": [
    "fpr1, tpr1, thresholds1 = roc_curve(y_test, probas_1[:,1])\n",
    "roc_auc2 = auc(fpr1, tpr1)\n",
    "print(\"The area under the curve for Logistic Regression classifier is \"+str(roc_auc2))"
   ]
  },
  {
   "cell_type": "code",
   "execution_count": 30,
   "metadata": {},
   "outputs": [
    {
     "name": "stdout",
     "output_type": "stream",
     "text": [
      "The area under the curve for support vector classifier is 0.8396192528735631\n"
     ]
    }
   ],
   "source": [
    "fpr2, tpr2, thresholds2 = roc_curve(y_test, probas_2[:,1])\n",
    "roc_auc2 = auc(fpr2, tpr2)\n",
    "print(\"The area under the curve for support vector classifier is \"+str(roc_auc2))"
   ]
  },
  {
   "cell_type": "markdown",
   "metadata": {},
   "source": [
    "<b>The area under the curve for support vector regressor is slightly larger than that of logistic regression</b>\n",
    "<br>\n",
    "<b>Hence the svc is better than the logistic regression</b>"
   ]
  },
  {
   "cell_type": "code",
   "execution_count": null,
   "metadata": {},
   "outputs": [],
   "source": []
  }
 ],
 "metadata": {
  "kernelspec": {
   "display_name": "Python 3",
   "language": "python",
   "name": "python3"
  },
  "language_info": {
   "codemirror_mode": {
    "name": "ipython",
    "version": 3
   },
   "file_extension": ".py",
   "mimetype": "text/x-python",
   "name": "python",
   "nbconvert_exporter": "python",
   "pygments_lexer": "ipython3",
   "version": "3.7.3"
  }
 },
 "nbformat": 4,
 "nbformat_minor": 2
}
