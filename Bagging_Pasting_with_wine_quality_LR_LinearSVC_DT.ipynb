{
 "cells": [
  {
   "cell_type": "markdown",
   "metadata": {},
   "source": [
    "<h3>Bagging and Pasting with LogisticRegression, LinearSVC, and DecisionTreeClassifier</h3>"
   ]
  },
  {
   "cell_type": "code",
   "execution_count": 33,
   "metadata": {},
   "outputs": [],
   "source": [
    "from sklearn.datasets import load_wine\n",
    "from sklearn.model_selection import train_test_split\n",
    "from sklearn.ensemble import BaggingClassifier\n",
    "from sklearn.svm import LinearSVC\n",
    "from sklearn.tree import DecisionTreeClassifier\n",
    "from sklearn.linear_model import LogisticRegression\n",
    "from sklearn.metrics import accuracy_score, f1_score"
   ]
  },
  {
   "cell_type": "code",
   "execution_count": 34,
   "metadata": {},
   "outputs": [
    {
     "name": "stdout",
     "output_type": "stream",
     "text": [
      "(124, 13)\n",
      "(54, 13)\n",
      "(124,)\n",
      "(54,)\n"
     ]
    }
   ],
   "source": [
    "# Load_data\n",
    "X, y = load_wine(return_X_y=True)\n",
    "X_train, X_test, y_train, y_test = train_test_split(X, y, test_size = 0.3, random_state=123)\n",
    "print(X_train.shape)\n",
    "print(X_test.shape)\n",
    "print(y_train.shape)\n",
    "print(y_test.shape)"
   ]
  },
  {
   "cell_type": "markdown",
   "metadata": {},
   "source": [
    "Building bagging model with decision tree SVC and logistic regression"
   ]
  },
  {
   "cell_type": "code",
   "execution_count": 35,
   "metadata": {},
   "outputs": [],
   "source": [
    "bag_clf1  = BaggingClassifier(DecisionTreeClassifier(), \n",
    "                              n_estimators=500, \n",
    "                              max_samples=100, \n",
    "                              bootstrap=True,\n",
    "                              oob_score=True,\n",
    "                              n_jobs=-1)\n",
    "\n",
    "bag_clf2 = BaggingClassifier(LinearSVC(),\n",
    "                            n_estimators=500,\n",
    "                            max_samples=100,\n",
    "                            bootstrap=True,\n",
    "                            oob_score=True,\n",
    "                            n_jobs=-1)\n",
    "\n",
    "bag_clf3 = BaggingClassifier(LogisticRegression(),\n",
    "                            n_estimators=500,\n",
    "                            max_samples=100,\n",
    "                            bootstrap=True,\n",
    "                            oob_score=True,\n",
    "                            n_jobs=-1) "
   ]
  },
  {
   "cell_type": "markdown",
   "metadata": {},
   "source": [
    "Building pasting model with decision tree SVC and logistic regression"
   ]
  },
  {
   "cell_type": "code",
   "execution_count": 36,
   "metadata": {},
   "outputs": [],
   "source": [
    "past_clf1  = BaggingClassifier(DecisionTreeClassifier(), \n",
    "                              n_estimators=500, \n",
    "                              max_samples=100, \n",
    "                              bootstrap=False,\n",
    "                              n_jobs=-1)\n",
    "\n",
    "past_clf2 = BaggingClassifier(LinearSVC(),\n",
    "                            n_estimators=500,\n",
    "                            max_samples=100,\n",
    "                            bootstrap=False,\n",
    "                            n_jobs=-1)\n",
    "\n",
    "past_clf3 = BaggingClassifier(LogisticRegression(),\n",
    "                            n_estimators=500,\n",
    "                            max_samples=100,\n",
    "                            bootstrap=False,\n",
    "                            n_jobs=-1) "
   ]
  },
  {
   "cell_type": "code",
   "execution_count": 37,
   "metadata": {},
   "outputs": [
    {
     "name": "stdout",
     "output_type": "stream",
     "text": [
      "BaggingClassifier0--->oob_score: 0.9435483870967742---> accuracy_score: 0.9629629629629629\n",
      "BaggingClassifier1--->oob_score: 0.8629032258064516---> accuracy_score: 0.7777777777777778\n",
      "BaggingClassifier2--->oob_score: 0.9274193548387096---> accuracy_score: 0.9629629629629629\n",
      "BaggingClassifier0---> accuracy_score: 0.9814814814814815\n",
      "BaggingClassifier1---> accuracy_score: 0.8518518518518519\n",
      "BaggingClassifier2---> accuracy_score: 0.9629629629629629\n"
     ]
    }
   ],
   "source": [
    "# Fitting amd evalueting the model\n",
    "\n",
    "for num, clf in enumerate((bag_clf1, bag_clf2, bag_clf3)):\n",
    "    clf.fit(X_train, y_train)\n",
    "    pred = clf.predict(X_test)\n",
    "    print(f\"{clf.__class__.__name__+str(num)}--->oob_score: {clf.oob_score_}---> accuracy_score: {accuracy_score(y_test, pred)}\")\n",
    "for num, clf in enumerate((past_clf1, past_clf2, past_clf3)):\n",
    "    clf.fit(X_train, y_train)\n",
    "    pred = clf.predict(X_test)\n",
    "    print(f\"{clf.__class__.__name__+str(num)}---> accuracy_score: {accuracy_score(y_test, pred)}\")"
   ]
  },
  {
   "cell_type": "code",
   "execution_count": null,
   "metadata": {},
   "outputs": [],
   "source": []
  }
 ],
 "metadata": {
  "kernelspec": {
   "display_name": "Python 3",
   "language": "python",
   "name": "python3"
  },
  "language_info": {
   "codemirror_mode": {
    "name": "ipython",
    "version": 3
   },
   "file_extension": ".py",
   "mimetype": "text/x-python",
   "name": "python",
   "nbconvert_exporter": "python",
   "pygments_lexer": "ipython3",
   "version": "3.6.8"
  }
 },
 "nbformat": 4,
 "nbformat_minor": 2
}
